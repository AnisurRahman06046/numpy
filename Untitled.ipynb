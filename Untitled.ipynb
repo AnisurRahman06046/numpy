{
 "cells": [
  {
   "cell_type": "markdown",
   "id": "9cbbdd85-bbbe-4e8b-8138-c28ec83ac394",
   "metadata": {},
   "source": [
    "# Welcome To Numpy Tutorial"
   ]
  },
  {
   "cell_type": "code",
   "execution_count": 6,
   "id": "c06ea7d6-11c6-466c-9a4e-a186884173a4",
   "metadata": {},
   "outputs": [],
   "source": [
    "import numpy as np"
   ]
  },
  {
   "cell_type": "code",
   "execution_count": null,
   "id": "0f2ff0ee-3ca5-4997-aacf-7942f867692b",
   "metadata": {},
   "outputs": [],
   "source": []
  },
  {
   "cell_type": "code",
   "execution_count": 12,
   "id": "bdd74dbe-7db9-4489-a9f2-033c62c67d60",
   "metadata": {},
   "outputs": [
    {
     "name": "stdout",
     "output_type": "stream",
     "text": [
      "0.0\n"
     ]
    }
   ],
   "source": [
    "from time import process_time\n",
    "\n",
    "# Step 1: Initialize python_list\n",
    "python_list = [i for i in range(10000)]\n",
    "\n",
    "# Step 2: Measure the time taken for the addition operation\n",
    "start_time = process_time()\n",
    "python_list = [i + 5 for i in python_list]\n",
    "end_time = process_time()\n",
    "\n",
    "# Step 3: Print the time taken\n",
    "print(end_time - start_time)"
   ]
  },
  {
   "cell_type": "code",
   "execution_count": null,
   "id": "edde190c-958c-44c6-b134-1777502d5443",
   "metadata": {},
   "outputs": [],
   "source": [
    "np_arr = np.array([i for i in range(10000)])\n",
    "sT=  process_time()\n",
    "np_arr+=5 \n",
    "endT = process_time()\n",
    "print(end_time - sT)"
   ]
  }
 ],
 "metadata": {
  "kernelspec": {
   "display_name": "Python 3 (ipykernel)",
   "language": "python",
   "name": "python3"
  },
  "language_info": {
   "codemirror_mode": {
    "name": "ipython",
    "version": 3
   },
   "file_extension": ".py",
   "mimetype": "text/x-python",
   "name": "python",
   "nbconvert_exporter": "python",
   "pygments_lexer": "ipython3",
   "version": "3.11.7"
  }
 },
 "nbformat": 4,
 "nbformat_minor": 5
}
