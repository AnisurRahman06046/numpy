{
 "cells": [
  {
   "cell_type": "markdown",
   "id": "9cbbdd85-bbbe-4e8b-8138-c28ec83ac394",
   "metadata": {},
   "source": [
    "# Welcome To Numpy Tutorial"
   ]
  },
  {
   "cell_type": "code",
   "execution_count": 6,
   "id": "c06ea7d6-11c6-466c-9a4e-a186884173a4",
   "metadata": {},
   "outputs": [],
   "source": [
    "import numpy as np"
   ]
  },
  {
   "cell_type": "markdown",
   "id": "23ae9b9a-b9fe-4079-af93-2cb5ad57dd05",
   "metadata": {},
   "source": [
    "# Advantage of using numpy"
   ]
  },
  {
   "cell_type": "code",
   "execution_count": 16,
   "id": "bdd74dbe-7db9-4489-a9f2-033c62c67d60",
   "metadata": {},
   "outputs": [
    {
     "name": "stdout",
     "output_type": "stream",
     "text": [
      "0.3125\n"
     ]
    }
   ],
   "source": [
    "from time import process_time\n",
    "\n",
    "# Step 1: Initialize python_list\n",
    "python_list = [i for i in range(5000000)]\n",
    "\n",
    "# Step 2: Measure the time taken for the addition operation\n",
    "start_time = process_time()\n",
    "python_list = [i + 5 for i in python_list]\n",
    "end_time = process_time()\n",
    "\n",
    "# Step 3: Print the time taken\n",
    "print(end_time - start_time)"
   ]
  },
  {
   "cell_type": "code",
   "execution_count": 18,
   "id": "edde190c-958c-44c6-b134-1777502d5443",
   "metadata": {},
   "outputs": [
    {
     "name": "stdout",
     "output_type": "stream",
     "text": [
      "0.015625\n"
     ]
    }
   ],
   "source": [
    "np_arr = np.array([i for i in range(5000000)])\n",
    "sT=  process_time()\n",
    "np_arr+=5 \n",
    "endT = process_time()\n",
    "print(endT - sT)"
   ]
  },
  {
   "cell_type": "code",
   "execution_count": 19,
   "id": "730f0708-f04c-41ec-8451-98aaea58cc2a",
   "metadata": {},
   "outputs": [
    {
     "name": "stdout",
     "output_type": "stream",
     "text": [
      "[1, 2, 3, 4, 5]\n"
     ]
    },
    {
     "data": {
      "text/plain": [
       "list"
      ]
     },
     "execution_count": 19,
     "metadata": {},
     "output_type": "execute_result"
    }
   ],
   "source": [
    "list1 = [1,2,3,4,5]\n",
    "print(list1)\n",
    "type(list1)"
   ]
  },
  {
   "cell_type": "code",
   "execution_count": 20,
   "id": "9f7f9f8c-7312-498b-a15c-ddcae9a771cc",
   "metadata": {},
   "outputs": [
    {
     "name": "stdout",
     "output_type": "stream",
     "text": [
      "[1 2 3 4 5]\n"
     ]
    },
    {
     "data": {
      "text/plain": [
       "numpy.ndarray"
      ]
     },
     "execution_count": 20,
     "metadata": {},
     "output_type": "execute_result"
    }
   ],
   "source": [
    "nA = np.array([1,2,3,4,5])\n",
    "print(nA)\n",
    "type(nA)"
   ]
  },
  {
   "cell_type": "markdown",
   "id": "b330070b-e340-42bc-b247-72922fdba0a5",
   "metadata": {},
   "source": [
    "# creating different dimensional array"
   ]
  },
  {
   "cell_type": "code",
   "execution_count": 23,
   "id": "5d8b56c1-de41-4473-94a3-859fd807e02d",
   "metadata": {},
   "outputs": [
    {
     "name": "stdout",
     "output_type": "stream",
     "text": [
      "[1 2 3 4 5]\n"
     ]
    },
    {
     "data": {
      "text/plain": [
       "(5,)"
      ]
     },
     "execution_count": 23,
     "metadata": {},
     "output_type": "execute_result"
    }
   ],
   "source": [
    "# one dim\n",
    "a = np.array([1,2,3,4,5])\n",
    "print(a)\n",
    "type(a)\n",
    "a.shape"
   ]
  },
  {
   "cell_type": "code",
   "execution_count": 26,
   "id": "877f7bb8-6c83-427f-95fc-b0cb743764a5",
   "metadata": {},
   "outputs": [
    {
     "name": "stdout",
     "output_type": "stream",
     "text": [
      "[[1 2 3]\n",
      " [4 5 6]]\n"
     ]
    },
    {
     "data": {
      "text/plain": [
       "(2, 3)"
      ]
     },
     "execution_count": 26,
     "metadata": {},
     "output_type": "execute_result"
    }
   ],
   "source": [
    "#  two dim array\n",
    "b = np.array([(1,2,3),(4,5,6)])\n",
    "print(b)\n",
    "b.shape"
   ]
  },
  {
   "cell_type": "code",
   "execution_count": 30,
   "id": "6ba25306-7a00-4fee-b1af-641cd4b4cf07",
   "metadata": {},
   "outputs": [
    {
     "name": "stdout",
     "output_type": "stream",
     "text": [
      "[[0. 0. 0. 0. 0.]\n",
      " [0. 0. 0. 0. 0.]\n",
      " [0. 0. 0. 0. 0.]\n",
      " [0. 0. 0. 0. 0.]]\n"
     ]
    }
   ],
   "source": [
    "# zeros\n",
    "z = np.zeros((4,5))\n",
    "print(z)"
   ]
  },
  {
   "cell_type": "code",
   "execution_count": 31,
   "id": "585cb1d4-e431-40c8-8f76-1113098b41dd",
   "metadata": {},
   "outputs": [
    {
     "name": "stdout",
     "output_type": "stream",
     "text": [
      "[[1. 1. 1. 1. 1.]\n",
      " [1. 1. 1. 1. 1.]\n",
      " [1. 1. 1. 1. 1.]\n",
      " [1. 1. 1. 1. 1.]]\n"
     ]
    }
   ],
   "source": [
    "#  creating ones\n",
    "o = np.ones((4,5))\n",
    "print(o)"
   ]
  },
  {
   "cell_type": "code",
   "execution_count": 32,
   "id": "bf7ad566-85a0-427e-9709-1f5974df0d19",
   "metadata": {},
   "outputs": [
    {
     "name": "stdout",
     "output_type": "stream",
     "text": [
      "[[2 2 2 2]\n",
      " [2 2 2 2]\n",
      " [2 2 2 2]\n",
      " [2 2 2 2]]\n"
     ]
    }
   ],
   "source": [
    "#  array of a particular value\n",
    "# t = np.full(shape,value) \n",
    "t = np.full((4,4),2) \n",
    "print(t)"
   ]
  },
  {
   "cell_type": "code",
   "execution_count": 33,
   "id": "6be4443c-c81f-4aca-b57f-5d6401b159ea",
   "metadata": {},
   "outputs": [
    {
     "name": "stdout",
     "output_type": "stream",
     "text": [
      "[[1. 0. 0. 0.]\n",
      " [0. 1. 0. 0.]\n",
      " [0. 0. 1. 0.]\n",
      " [0. 0. 0. 1.]]\n"
     ]
    }
   ],
   "source": [
    "# identity matrix :  where the diagonal values are one and all the values are zero\n",
    "# note : in identity matrix the number of rows = cols\n",
    "\n",
    "i = np.eye(4)\n",
    "print(i)"
   ]
  },
  {
   "cell_type": "code",
   "execution_count": 36,
   "id": "247c44cd-2129-4afd-9c6c-4fb6e96f1d47",
   "metadata": {},
   "outputs": [
    {
     "name": "stdout",
     "output_type": "stream",
     "text": [
      "[[0.15363228 0.47924191 0.93703473 0.25071119 0.13506209]\n",
      " [0.86017161 0.90948683 0.58652016 0.81187703 0.74285591]\n",
      " [0.68749768 0.05607745 0.41615899 0.19453239 0.55850222]\n",
      " [0.23893212 0.07795131 0.86289922 0.45563128 0.24922803]]\n"
     ]
    }
   ],
   "source": [
    "# creating random values array\n",
    "r = np.random.random((4,5))\n",
    "print(r)"
   ]
  },
  {
   "cell_type": "code",
   "execution_count": 37,
   "id": "03df8ec3-1c85-4dc5-a15b-66820a3082cb",
   "metadata": {},
   "outputs": [
    {
     "name": "stdout",
     "output_type": "stream",
     "text": [
      "[[35 48 31 19 27]\n",
      " [15 44 43 26 44]\n",
      " [28 48 25 29 15]\n",
      " [46 17 36 39 23]]\n"
     ]
    }
   ],
   "source": [
    "# creating random integer values array\n",
    "ri = np.random.randint(10,50,(4,5))\n",
    "print(ri)"
   ]
  },
  {
   "cell_type": "code",
   "execution_count": 41,
   "id": "1fcef4ef-5920-4f5a-b84b-6e3a8531955c",
   "metadata": {},
   "outputs": [
    {
     "name": "stdout",
     "output_type": "stream",
     "text": [
      "[10. 14. 18. 22. 26. 30.]\n"
     ]
    }
   ],
   "source": [
    "#  array of evenly spaced vlaues\n",
    "ev = np.linspace(10,30,6)\n",
    "print(ev)"
   ]
  },
  {
   "cell_type": "code",
   "execution_count": 43,
   "id": "19bfff77-64b8-4649-ad69-485f1b3120d2",
   "metadata": {},
   "outputs": [
    {
     "name": "stdout",
     "output_type": "stream",
     "text": [
      "[10 12 14 16 18 20 22 24 26 28]\n"
     ]
    }
   ],
   "source": [
    "#  array of evenly spaced vlaues specifying the step\n",
    "st = np.arange(10,30,2)\n",
    "print(st)"
   ]
  },
  {
   "cell_type": "code",
   "execution_count": 44,
   "id": "0d3ba8aa-6b53-4abf-a463-e5f91a50d2b9",
   "metadata": {},
   "outputs": [
    {
     "name": "stdout",
     "output_type": "stream",
     "text": [
      "[1 2 3 4 5 6]\n"
     ]
    },
    {
     "data": {
      "text/plain": [
       "numpy.ndarray"
      ]
     },
     "execution_count": 44,
     "metadata": {},
     "output_type": "execute_result"
    }
   ],
   "source": [
    "# converting a list to numpy array\n",
    "li = [1,2,3,4,5,6]\n",
    "nLi = np.asarray(li)\n",
    "print(nLi)\n",
    "type(nLi)"
   ]
  },
  {
   "cell_type": "markdown",
   "id": "80ae9ed7-5d73-46bb-bc7c-3bb6675f0bd7",
   "metadata": {},
   "source": [
    "# Analysing numpy array"
   ]
  },
  {
   "cell_type": "code",
   "execution_count": 45,
   "id": "1e0855c7-8e42-43e4-9e56-ec598b46df9b",
   "metadata": {},
   "outputs": [
    {
     "name": "stdout",
     "output_type": "stream",
     "text": [
      "[[46 17 32 21 41]\n",
      " [16 24 14 46 34]\n",
      " [44 31 37 17 49]\n",
      " [43 43 28 27 46]\n",
      " [43 36 11 36 32]]\n"
     ]
    }
   ],
   "source": [
    "c = np.random.randint(10,50,(5,5))\n",
    "print(c)"
   ]
  },
  {
   "cell_type": "code",
   "execution_count": 47,
   "id": "a6248f54-d49d-4950-8d6a-c4505cfcb5cb",
   "metadata": {},
   "outputs": [
    {
     "data": {
      "text/plain": [
       "(5, 5)"
      ]
     },
     "execution_count": 47,
     "metadata": {},
     "output_type": "execute_result"
    }
   ],
   "source": [
    "#  finding the array dimension\n",
    "c.shape"
   ]
  },
  {
   "cell_type": "code",
   "execution_count": 49,
   "id": "7b084517-c6c0-4d6e-a17e-ed576c444015",
   "metadata": {},
   "outputs": [
    {
     "data": {
      "text/plain": [
       "2"
      ]
     },
     "execution_count": 49,
     "metadata": {},
     "output_type": "execute_result"
    }
   ],
   "source": [
    "#  finding the dimensions\n",
    "c.ndim"
   ]
  },
  {
   "cell_type": "code",
   "execution_count": 50,
   "id": "f2a7f2c5-45e9-4f1f-80b8-87510c98d14f",
   "metadata": {},
   "outputs": [
    {
     "data": {
      "text/plain": [
       "25"
      ]
     },
     "execution_count": 50,
     "metadata": {},
     "output_type": "execute_result"
    }
   ],
   "source": [
    "# finding the number of elements\n",
    "c.size"
   ]
  },
  {
   "cell_type": "code",
   "execution_count": 51,
   "id": "743d1170-f542-495c-bd5b-6dbef6209d2d",
   "metadata": {},
   "outputs": [
    {
     "data": {
      "text/plain": [
       "dtype('int32')"
      ]
     },
     "execution_count": 51,
     "metadata": {},
     "output_type": "execute_result"
    }
   ],
   "source": [
    "# finding the data type\n",
    "c.dtype"
   ]
  },
  {
   "cell_type": "code",
   "execution_count": 53,
   "id": "c82b8acb-bc7e-4450-8f1c-88613b9fbb01",
   "metadata": {},
   "outputs": [
    {
     "data": {
      "text/plain": [
       "[1, 2, 3, 4, 5, 1, 2, 3, 4, 5]"
      ]
     },
     "execution_count": 53,
     "metadata": {},
     "output_type": "execute_result"
    }
   ],
   "source": [
    "# mathematical operations\n",
    "li1 = [1,2,3,4,5]\n",
    "li2 = [1,2,3,4,5]\n",
    "li1+li2 # in list here it is concatening"
   ]
  },
  {
   "cell_type": "code",
   "execution_count": 54,
   "id": "3e729472-b5f3-4c7d-a654-54a090d797b6",
   "metadata": {},
   "outputs": [
    {
     "data": {
      "text/plain": [
       "array([[15, 19, 20],\n",
       "       [20, 18, 20],\n",
       "       [20, 19, 18]])"
      ]
     },
     "execution_count": 54,
     "metadata": {},
     "output_type": "execute_result"
    }
   ],
   "source": [
    "arr1 = np.random.randint(0,10,(3,3))\n",
    "arr2 = np.random.randint(10,20,(3,3))\n",
    "arr1 + arr2"
   ]
  },
  {
   "cell_type": "code",
   "execution_count": 55,
   "id": "ef490dae-59a6-4ec4-9f6a-9a1944e1ee4b",
   "metadata": {},
   "outputs": [
    {
     "data": {
      "text/plain": [
       "array([[ -7,  -9, -10],\n",
       "       [ -6, -18, -18],\n",
       "       [ -8, -15,  -4]])"
      ]
     },
     "execution_count": 55,
     "metadata": {},
     "output_type": "execute_result"
    }
   ],
   "source": [
    "arr1-arr2"
   ]
  },
  {
   "cell_type": "code",
   "execution_count": 56,
   "id": "bde76089-0780-4d80-984a-9ff306d78930",
   "metadata": {},
   "outputs": [
    {
     "data": {
      "text/plain": [
       "array([[44, 70, 75],\n",
       "       [91,  0, 19],\n",
       "       [84, 34, 77]])"
      ]
     },
     "execution_count": 56,
     "metadata": {},
     "output_type": "execute_result"
    }
   ],
   "source": [
    "arr1*arr2"
   ]
  },
  {
   "cell_type": "code",
   "execution_count": 57,
   "id": "70eb48c0-0c36-4a6a-abe3-e1569aa55fba",
   "metadata": {},
   "outputs": [
    {
     "data": {
      "text/plain": [
       "array([[0.36363636, 0.35714286, 0.33333333],\n",
       "       [0.53846154, 0.        , 0.05263158],\n",
       "       [0.42857143, 0.11764706, 0.63636364]])"
      ]
     },
     "execution_count": 57,
     "metadata": {},
     "output_type": "execute_result"
    }
   ],
   "source": [
    "arr1/arr2"
   ]
  },
  {
   "cell_type": "code",
   "execution_count": 58,
   "id": "94442ed0-07cd-4e5d-9500-37c43f809a17",
   "metadata": {},
   "outputs": [
    {
     "data": {
      "text/plain": [
       "array([[15, 19, 20],\n",
       "       [20, 18, 20],\n",
       "       [20, 19, 18]])"
      ]
     },
     "execution_count": 58,
     "metadata": {},
     "output_type": "execute_result"
    }
   ],
   "source": [
    "#  alternative way\n",
    "np.add(arr1,arr2)"
   ]
  },
  {
   "cell_type": "code",
   "execution_count": 60,
   "id": "382bdafa-446f-40e9-9615-c7a99f0f9b51",
   "metadata": {},
   "outputs": [
    {
     "data": {
      "text/plain": [
       "array([[ -7,  -9, -10],\n",
       "       [ -6, -18, -18],\n",
       "       [ -8, -15,  -4]])"
      ]
     },
     "execution_count": 60,
     "metadata": {},
     "output_type": "execute_result"
    }
   ],
   "source": [
    "np.subtract(arr1,arr2)"
   ]
  },
  {
   "cell_type": "code",
   "execution_count": 61,
   "id": "4ad69219-7ea1-45ac-8654-814e599796cc",
   "metadata": {},
   "outputs": [
    {
     "data": {
      "text/plain": [
       "array([[44, 70, 75],\n",
       "       [91,  0, 19],\n",
       "       [84, 34, 77]])"
      ]
     },
     "execution_count": 61,
     "metadata": {},
     "output_type": "execute_result"
    }
   ],
   "source": [
    "np.multiply(arr1,arr2)"
   ]
  },
  {
   "cell_type": "code",
   "execution_count": 62,
   "id": "03fc79f7-3d20-4629-9578-0be641581b1f",
   "metadata": {},
   "outputs": [
    {
     "data": {
      "text/plain": [
       "array([[0.36363636, 0.35714286, 0.33333333],\n",
       "       [0.53846154, 0.        , 0.05263158],\n",
       "       [0.42857143, 0.11764706, 0.63636364]])"
      ]
     },
     "execution_count": 62,
     "metadata": {},
     "output_type": "execute_result"
    }
   ],
   "source": [
    "np.divide(arr1,arr2)"
   ]
  },
  {
   "cell_type": "markdown",
   "id": "837521c0-1cb7-4871-b553-ace5ca4a90ed",
   "metadata": {},
   "source": [
    "# Array manipulation"
   ]
  },
  {
   "cell_type": "code",
   "execution_count": 66,
   "id": "2b766954-7f00-42bd-96c3-cec71a746c30",
   "metadata": {},
   "outputs": [
    {
     "data": {
      "text/plain": [
       "(2, 3)"
      ]
     },
     "execution_count": 66,
     "metadata": {},
     "output_type": "execute_result"
    }
   ],
   "source": [
    "myA = np.random.randint(0,10,(2,3))\n",
    "myA\n",
    "myA.shape"
   ]
  },
  {
   "cell_type": "code",
   "execution_count": 64,
   "id": "045a6c51-5732-4304-b89c-157093bf0c37",
   "metadata": {},
   "outputs": [
    {
     "data": {
      "text/plain": [
       "array([[8, 6],\n",
       "       [6, 2],\n",
       "       [0, 9]])"
      ]
     },
     "execution_count": 64,
     "metadata": {},
     "output_type": "execute_result"
    }
   ],
   "source": [
    "# transpose\n",
    "trans = np.transpose(myA)\n",
    "trans"
   ]
  },
  {
   "cell_type": "code",
   "execution_count": 65,
   "id": "e8050a64-e63d-42b8-a042-eec7c2519420",
   "metadata": {},
   "outputs": [
    {
     "data": {
      "text/plain": [
       "(3, 2)"
      ]
     },
     "execution_count": 65,
     "metadata": {},
     "output_type": "execute_result"
    }
   ],
   "source": [
    "trans.shape"
   ]
  },
  {
   "cell_type": "code",
   "execution_count": 67,
   "id": "d1253ea6-2433-4513-aa15-d2ee15406b37",
   "metadata": {},
   "outputs": [
    {
     "data": {
      "text/plain": [
       "(3, 2)"
      ]
     },
     "execution_count": 67,
     "metadata": {},
     "output_type": "execute_result"
    }
   ],
   "source": [
    "# reshape\n",
    "x = np.random.randint(0,10,(3,2))\n",
    "x\n",
    "x.shape"
   ]
  },
  {
   "cell_type": "code",
   "execution_count": null,
   "id": "30e2e44e-9dfe-4229-909e-ec8a4d615f16",
   "metadata": {},
   "outputs": [],
   "source": [
    "y = x."
   ]
  }
 ],
 "metadata": {
  "kernelspec": {
   "display_name": "Python 3 (ipykernel)",
   "language": "python",
   "name": "python3"
  },
  "language_info": {
   "codemirror_mode": {
    "name": "ipython",
    "version": 3
   },
   "file_extension": ".py",
   "mimetype": "text/x-python",
   "name": "python",
   "nbconvert_exporter": "python",
   "pygments_lexer": "ipython3",
   "version": "3.11.7"
  }
 },
 "nbformat": 4,
 "nbformat_minor": 5
}
