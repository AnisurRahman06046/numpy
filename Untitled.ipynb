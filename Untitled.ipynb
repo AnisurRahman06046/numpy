{
 "cells": [
  {
   "cell_type": "markdown",
   "id": "9cbbdd85-bbbe-4e8b-8138-c28ec83ac394",
   "metadata": {},
   "source": [
    "# Welcome To Numpy Tutorial"
   ]
  },
  {
   "cell_type": "code",
   "execution_count": 6,
   "id": "c06ea7d6-11c6-466c-9a4e-a186884173a4",
   "metadata": {},
   "outputs": [],
   "source": [
    "import numpy as np"
   ]
  },
  {
   "cell_type": "markdown",
   "id": "23ae9b9a-b9fe-4079-af93-2cb5ad57dd05",
   "metadata": {},
   "source": [
    "# Advantage of using numpy"
   ]
  },
  {
   "cell_type": "code",
   "execution_count": 16,
   "id": "bdd74dbe-7db9-4489-a9f2-033c62c67d60",
   "metadata": {},
   "outputs": [
    {
     "name": "stdout",
     "output_type": "stream",
     "text": [
      "0.3125\n"
     ]
    }
   ],
   "source": [
    "from time import process_time\n",
    "\n",
    "# Step 1: Initialize python_list\n",
    "python_list = [i for i in range(5000000)]\n",
    "\n",
    "# Step 2: Measure the time taken for the addition operation\n",
    "start_time = process_time()\n",
    "python_list = [i + 5 for i in python_list]\n",
    "end_time = process_time()\n",
    "\n",
    "# Step 3: Print the time taken\n",
    "print(end_time - start_time)"
   ]
  },
  {
   "cell_type": "code",
   "execution_count": 18,
   "id": "edde190c-958c-44c6-b134-1777502d5443",
   "metadata": {},
   "outputs": [
    {
     "name": "stdout",
     "output_type": "stream",
     "text": [
      "0.015625\n"
     ]
    }
   ],
   "source": [
    "np_arr = np.array([i for i in range(5000000)])\n",
    "sT=  process_time()\n",
    "np_arr+=5 \n",
    "endT = process_time()\n",
    "print(endT - sT)"
   ]
  },
  {
   "cell_type": "code",
   "execution_count": 19,
   "id": "730f0708-f04c-41ec-8451-98aaea58cc2a",
   "metadata": {},
   "outputs": [
    {
     "name": "stdout",
     "output_type": "stream",
     "text": [
      "[1, 2, 3, 4, 5]\n"
     ]
    },
    {
     "data": {
      "text/plain": [
       "list"
      ]
     },
     "execution_count": 19,
     "metadata": {},
     "output_type": "execute_result"
    }
   ],
   "source": [
    "list1 = [1,2,3,4,5]\n",
    "print(list1)\n",
    "type(list1)"
   ]
  },
  {
   "cell_type": "code",
   "execution_count": 20,
   "id": "9f7f9f8c-7312-498b-a15c-ddcae9a771cc",
   "metadata": {},
   "outputs": [
    {
     "name": "stdout",
     "output_type": "stream",
     "text": [
      "[1 2 3 4 5]\n"
     ]
    },
    {
     "data": {
      "text/plain": [
       "numpy.ndarray"
      ]
     },
     "execution_count": 20,
     "metadata": {},
     "output_type": "execute_result"
    }
   ],
   "source": [
    "nA = np.array([1,2,3,4,5])\n",
    "print(nA)\n",
    "type(nA)"
   ]
  },
  {
   "cell_type": "markdown",
   "id": "b330070b-e340-42bc-b247-72922fdba0a5",
   "metadata": {},
   "source": [
    "# creating different dimensional array"
   ]
  },
  {
   "cell_type": "code",
   "execution_count": 21,
   "id": "5d8b56c1-de41-4473-94a3-859fd807e02d",
   "metadata": {},
   "outputs": [
    {
     "data": {
      "text/plain": [
       "array([1, 2, 3, 4, 5])"
      ]
     },
     "execution_count": 21,
     "metadata": {},
     "output_type": "execute_result"
    }
   ],
   "source": [
    "# one dim\n",
    "a = np.array([1,2,3,4,5])\n",
    "print(a)\n",
    "type(a)\n"
   ]
  },
  {
   "cell_type": "code",
   "execution_count": 22,
   "id": "877f7bb8-6c83-427f-95fc-b0cb743764a5",
   "metadata": {},
   "outputs": [
    {
     "name": "stdout",
     "output_type": "stream",
     "text": [
      "[1 2 3 4 5]\n"
     ]
    }
   ],
   "source": []
  },
  {
   "cell_type": "code",
   "execution_count": null,
   "id": "6ba25306-7a00-4fee-b1af-641cd4b4cf07",
   "metadata": {},
   "outputs": [],
   "source": []
  }
 ],
 "metadata": {
  "kernelspec": {
   "display_name": "Python 3 (ipykernel)",
   "language": "python",
   "name": "python3"
  },
  "language_info": {
   "codemirror_mode": {
    "name": "ipython",
    "version": 3
   },
   "file_extension": ".py",
   "mimetype": "text/x-python",
   "name": "python",
   "nbconvert_exporter": "python",
   "pygments_lexer": "ipython3",
   "version": "3.11.7"
  }
 },
 "nbformat": 4,
 "nbformat_minor": 5
}
