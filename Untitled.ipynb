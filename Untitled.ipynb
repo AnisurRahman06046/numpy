{
 "cells": [
  {
   "cell_type": "markdown",
   "id": "9cbbdd85-bbbe-4e8b-8138-c28ec83ac394",
   "metadata": {},
   "source": [
    "# Welcome To Numpy Tutorial"
   ]
  },
  {
   "cell_type": "code",
   "execution_count": 6,
   "id": "c06ea7d6-11c6-466c-9a4e-a186884173a4",
   "metadata": {},
   "outputs": [],
   "source": [
    "import numpy as np"
   ]
  },
  {
   "cell_type": "markdown",
   "id": "23ae9b9a-b9fe-4079-af93-2cb5ad57dd05",
   "metadata": {},
   "source": [
    "# Advantage of using numpy"
   ]
  },
  {
   "cell_type": "code",
   "execution_count": 16,
   "id": "bdd74dbe-7db9-4489-a9f2-033c62c67d60",
   "metadata": {},
   "outputs": [
    {
     "name": "stdout",
     "output_type": "stream",
     "text": [
      "0.3125\n"
     ]
    }
   ],
   "source": [
    "from time import process_time\n",
    "\n",
    "# Step 1: Initialize python_list\n",
    "python_list = [i for i in range(5000000)]\n",
    "\n",
    "# Step 2: Measure the time taken for the addition operation\n",
    "start_time = process_time()\n",
    "python_list = [i + 5 for i in python_list]\n",
    "end_time = process_time()\n",
    "\n",
    "# Step 3: Print the time taken\n",
    "print(end_time - start_time)"
   ]
  },
  {
   "cell_type": "code",
   "execution_count": 18,
   "id": "edde190c-958c-44c6-b134-1777502d5443",
   "metadata": {},
   "outputs": [
    {
     "name": "stdout",
     "output_type": "stream",
     "text": [
      "0.015625\n"
     ]
    }
   ],
   "source": [
    "np_arr = np.array([i for i in range(5000000)])\n",
    "sT=  process_time()\n",
    "np_arr+=5 \n",
    "endT = process_time()\n",
    "print(endT - sT)"
   ]
  },
  {
   "cell_type": "code",
   "execution_count": 19,
   "id": "730f0708-f04c-41ec-8451-98aaea58cc2a",
   "metadata": {},
   "outputs": [
    {
     "name": "stdout",
     "output_type": "stream",
     "text": [
      "[1, 2, 3, 4, 5]\n"
     ]
    },
    {
     "data": {
      "text/plain": [
       "list"
      ]
     },
     "execution_count": 19,
     "metadata": {},
     "output_type": "execute_result"
    }
   ],
   "source": [
    "list1 = [1,2,3,4,5]\n",
    "print(list1)\n",
    "type(list1)"
   ]
  },
  {
   "cell_type": "code",
   "execution_count": 20,
   "id": "9f7f9f8c-7312-498b-a15c-ddcae9a771cc",
   "metadata": {},
   "outputs": [
    {
     "name": "stdout",
     "output_type": "stream",
     "text": [
      "[1 2 3 4 5]\n"
     ]
    },
    {
     "data": {
      "text/plain": [
       "numpy.ndarray"
      ]
     },
     "execution_count": 20,
     "metadata": {},
     "output_type": "execute_result"
    }
   ],
   "source": [
    "nA = np.array([1,2,3,4,5])\n",
    "print(nA)\n",
    "type(nA)"
   ]
  },
  {
   "cell_type": "markdown",
   "id": "b330070b-e340-42bc-b247-72922fdba0a5",
   "metadata": {},
   "source": [
    "# creating different dimensional array"
   ]
  },
  {
   "cell_type": "code",
   "execution_count": 23,
   "id": "5d8b56c1-de41-4473-94a3-859fd807e02d",
   "metadata": {},
   "outputs": [
    {
     "name": "stdout",
     "output_type": "stream",
     "text": [
      "[1 2 3 4 5]\n"
     ]
    },
    {
     "data": {
      "text/plain": [
       "(5,)"
      ]
     },
     "execution_count": 23,
     "metadata": {},
     "output_type": "execute_result"
    }
   ],
   "source": [
    "# one dim\n",
    "a = np.array([1,2,3,4,5])\n",
    "print(a)\n",
    "type(a)\n",
    "a.shape"
   ]
  },
  {
   "cell_type": "code",
   "execution_count": 26,
   "id": "877f7bb8-6c83-427f-95fc-b0cb743764a5",
   "metadata": {},
   "outputs": [
    {
     "name": "stdout",
     "output_type": "stream",
     "text": [
      "[[1 2 3]\n",
      " [4 5 6]]\n"
     ]
    },
    {
     "data": {
      "text/plain": [
       "(2, 3)"
      ]
     },
     "execution_count": 26,
     "metadata": {},
     "output_type": "execute_result"
    }
   ],
   "source": [
    "#  two dim array\n",
    "b = np.array([(1,2,3),(4,5,6)])\n",
    "print(b)\n",
    "b.shape"
   ]
  },
  {
   "cell_type": "code",
   "execution_count": 30,
   "id": "6ba25306-7a00-4fee-b1af-641cd4b4cf07",
   "metadata": {},
   "outputs": [
    {
     "name": "stdout",
     "output_type": "stream",
     "text": [
      "[[0. 0. 0. 0. 0.]\n",
      " [0. 0. 0. 0. 0.]\n",
      " [0. 0. 0. 0. 0.]\n",
      " [0. 0. 0. 0. 0.]]\n"
     ]
    }
   ],
   "source": [
    "# zeros\n",
    "z = np.zeros((4,5))\n",
    "print(z)"
   ]
  },
  {
   "cell_type": "code",
   "execution_count": 31,
   "id": "585cb1d4-e431-40c8-8f76-1113098b41dd",
   "metadata": {},
   "outputs": [
    {
     "name": "stdout",
     "output_type": "stream",
     "text": [
      "[[1. 1. 1. 1. 1.]\n",
      " [1. 1. 1. 1. 1.]\n",
      " [1. 1. 1. 1. 1.]\n",
      " [1. 1. 1. 1. 1.]]\n"
     ]
    }
   ],
   "source": [
    "#  creating ones\n",
    "o = np.ones((4,5))\n",
    "print(o)"
   ]
  },
  {
   "cell_type": "code",
   "execution_count": 32,
   "id": "bf7ad566-85a0-427e-9709-1f5974df0d19",
   "metadata": {},
   "outputs": [
    {
     "name": "stdout",
     "output_type": "stream",
     "text": [
      "[[2 2 2 2]\n",
      " [2 2 2 2]\n",
      " [2 2 2 2]\n",
      " [2 2 2 2]]\n"
     ]
    }
   ],
   "source": [
    "#  array of a particular value\n",
    "# t = np.full(shape,value) \n",
    "t = np.full((4,4),2) \n",
    "print(t)"
   ]
  },
  {
   "cell_type": "code",
   "execution_count": 33,
   "id": "6be4443c-c81f-4aca-b57f-5d6401b159ea",
   "metadata": {},
   "outputs": [
    {
     "name": "stdout",
     "output_type": "stream",
     "text": [
      "[[1. 0. 0. 0.]\n",
      " [0. 1. 0. 0.]\n",
      " [0. 0. 1. 0.]\n",
      " [0. 0. 0. 1.]]\n"
     ]
    }
   ],
   "source": [
    "# identity matrix :  where the diagonal values are one and all the values are zero\n",
    "# note : in identity matrix the number of rows = cols\n",
    "\n",
    "i = np.eye(4)\n",
    "print(i)"
   ]
  },
  {
   "cell_type": "code",
   "execution_count": 36,
   "id": "247c44cd-2129-4afd-9c6c-4fb6e96f1d47",
   "metadata": {},
   "outputs": [
    {
     "name": "stdout",
     "output_type": "stream",
     "text": [
      "[[0.15363228 0.47924191 0.93703473 0.25071119 0.13506209]\n",
      " [0.86017161 0.90948683 0.58652016 0.81187703 0.74285591]\n",
      " [0.68749768 0.05607745 0.41615899 0.19453239 0.55850222]\n",
      " [0.23893212 0.07795131 0.86289922 0.45563128 0.24922803]]\n"
     ]
    }
   ],
   "source": [
    "# creating random values array\n",
    "r = np.random.random((4,5))\n",
    "print(r)"
   ]
  },
  {
   "cell_type": "code",
   "execution_count": 37,
   "id": "03df8ec3-1c85-4dc5-a15b-66820a3082cb",
   "metadata": {},
   "outputs": [
    {
     "name": "stdout",
     "output_type": "stream",
     "text": [
      "[[35 48 31 19 27]\n",
      " [15 44 43 26 44]\n",
      " [28 48 25 29 15]\n",
      " [46 17 36 39 23]]\n"
     ]
    }
   ],
   "source": [
    "# creating random integer values array\n",
    "ri = np.random.randint(10,50,(4,5))\n",
    "print(ri)"
   ]
  },
  {
   "cell_type": "code",
   "execution_count": null,
   "id": "1fcef4ef-5920-4f5a-b84b-6e3a8531955c",
   "metadata": {},
   "outputs": [],
   "source": []
  }
 ],
 "metadata": {
  "kernelspec": {
   "display_name": "Python 3 (ipykernel)",
   "language": "python",
   "name": "python3"
  },
  "language_info": {
   "codemirror_mode": {
    "name": "ipython",
    "version": 3
   },
   "file_extension": ".py",
   "mimetype": "text/x-python",
   "name": "python",
   "nbconvert_exporter": "python",
   "pygments_lexer": "ipython3",
   "version": "3.11.7"
  }
 },
 "nbformat": 4,
 "nbformat_minor": 5
}
