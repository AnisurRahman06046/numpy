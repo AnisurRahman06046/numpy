{
 "cells": [
  {
   "cell_type": "markdown",
   "id": "8f1d5c9c-e362-4f43-a4b1-f2e67c03c945",
   "metadata": {},
   "source": [
    "# Handling missing values in a dataset"
   ]
  },
  {
   "cell_type": "code",
   "execution_count": null,
   "id": "42a7d2ed-8cd5-4057-8eec-780226cc491d",
   "metadata": {},
   "outputs": [],
   "source": []
  }
 ],
 "metadata": {
  "kernelspec": {
   "display_name": "Python 3 (ipykernel)",
   "language": "python",
   "name": "python3"
  },
  "language_info": {
   "codemirror_mode": {
    "name": "ipython",
    "version": 3
   },
   "file_extension": ".py",
   "mimetype": "text/x-python",
   "name": "python",
   "nbconvert_exporter": "python",
   "pygments_lexer": "ipython3",
   "version": "3.11.7"
  }
 },
 "nbformat": 4,
 "nbformat_minor": 5
}
